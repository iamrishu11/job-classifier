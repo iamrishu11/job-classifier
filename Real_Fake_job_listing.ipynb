{
  "nbformat": 4,
  "nbformat_minor": 0,
  "metadata": {
    "colab": {
      "provenance": []
    },
    "kernelspec": {
      "name": "python3",
      "display_name": "Python 3"
    },
    "language_info": {
      "name": "python"
    }
  },
  "cells": [
    {
      "cell_type": "markdown",
      "source": [
        "Importing the dependencies"
      ],
      "metadata": {
        "id": "jv-43m9pHZpR"
      }
    },
    {
      "cell_type": "code",
      "source": [
        "import numpy as np\n",
        "import pandas as pd\n",
        "import matplotlib.pyplot as plt\n",
        "import seaborn as sns\n",
        "from sklearn.model_selection import train_test_split\n",
        "from imblearn.over_sampling import SMOTE\n",
        "\n",
        "# For encoding\n",
        "from sklearn.preprocessing import LabelEncoder\n",
        "from sklearn.feature_extraction.text import TfidfVectorizer\n",
        "\n",
        "# For training the model and evaluating\n",
        "from sklearn.ensemble import RandomForestClassifier\n",
        "from sklearn.metrics import classification_report, confusion_matrix, roc_auc_score\n"
      ],
      "metadata": {
        "id": "dqLJMJCbHjAJ"
      },
      "execution_count": null,
      "outputs": []
    },
    {
      "cell_type": "code",
      "source": [
        "df=pd.read_csv('job_train.csv')\n",
        "df.head()"
      ],
      "metadata": {
        "colab": {
          "base_uri": "https://localhost:8080/",
          "height": 379
        },
        "id": "-4Vun6t3I9vq",
        "outputId": "113fc8bc-a610-4bc8-d353-adc01c9065bc"
      },
      "execution_count": null,
      "outputs": [
        {
          "output_type": "execute_result",
          "data": {
            "text/plain": [
              "                                               title                location  \\\n",
              "0               Architect (Middleware - MQ) - Kuwait                KW, KU,    \n",
              "1  Interviewing Now for Sales Rep Positions -- wi...  US, TX, Corpus Christi   \n",
              "2  Process Controls Staff Engineer - Foxboro I/A ...   US, TX, USA Southwest   \n",
              "3  Experienced Telemarketer Wanted - Digital Solu...               AU, NSW,    \n",
              "4                            Senior Network Engineer         GB, ENG, London   \n",
              "\n",
              "                                         description  \\\n",
              "0  On behalf of our client, a well known multinat...   \n",
              "1  We are Argenta Field Solutions, a rapidly expa...   \n",
              "2  Experienced Process Controls Staff Engineer is...   \n",
              "3  If you have a passion for people and love to s...   \n",
              "4  As the successful Senior Network Engineer you ...   \n",
              "\n",
              "                                        requirements  telecommuting  \\\n",
              "0  -Working technical knowledge of IT systems and...              0   \n",
              "1                                             #NAME?              0   \n",
              "2  At least 10 years of degreed professional expe...              0   \n",
              "3  Responsibilities - Prospecting, following up a...              0   \n",
              "4  Essential skills:•Juniper switching/routing/se...              0   \n",
              "\n",
              "   has_company_logo  has_questions  fraudulent  \n",
              "0                 1              0           0  \n",
              "1                 1              0           0  \n",
              "2                 0              0           0  \n",
              "3                 1              0           0  \n",
              "4                 1              0           0  "
            ],
            "text/html": [
              "\n",
              "  <div id=\"df-772b64f1-4f51-4185-9f62-e78de44f5787\" class=\"colab-df-container\">\n",
              "    <div>\n",
              "<style scoped>\n",
              "    .dataframe tbody tr th:only-of-type {\n",
              "        vertical-align: middle;\n",
              "    }\n",
              "\n",
              "    .dataframe tbody tr th {\n",
              "        vertical-align: top;\n",
              "    }\n",
              "\n",
              "    .dataframe thead th {\n",
              "        text-align: right;\n",
              "    }\n",
              "</style>\n",
              "<table border=\"1\" class=\"dataframe\">\n",
              "  <thead>\n",
              "    <tr style=\"text-align: right;\">\n",
              "      <th></th>\n",
              "      <th>title</th>\n",
              "      <th>location</th>\n",
              "      <th>description</th>\n",
              "      <th>requirements</th>\n",
              "      <th>telecommuting</th>\n",
              "      <th>has_company_logo</th>\n",
              "      <th>has_questions</th>\n",
              "      <th>fraudulent</th>\n",
              "    </tr>\n",
              "  </thead>\n",
              "  <tbody>\n",
              "    <tr>\n",
              "      <th>0</th>\n",
              "      <td>Architect (Middleware - MQ) - Kuwait</td>\n",
              "      <td>KW, KU,</td>\n",
              "      <td>On behalf of our client, a well known multinat...</td>\n",
              "      <td>-Working technical knowledge of IT systems and...</td>\n",
              "      <td>0</td>\n",
              "      <td>1</td>\n",
              "      <td>0</td>\n",
              "      <td>0</td>\n",
              "    </tr>\n",
              "    <tr>\n",
              "      <th>1</th>\n",
              "      <td>Interviewing Now for Sales Rep Positions -- wi...</td>\n",
              "      <td>US, TX, Corpus Christi</td>\n",
              "      <td>We are Argenta Field Solutions, a rapidly expa...</td>\n",
              "      <td>#NAME?</td>\n",
              "      <td>0</td>\n",
              "      <td>1</td>\n",
              "      <td>0</td>\n",
              "      <td>0</td>\n",
              "    </tr>\n",
              "    <tr>\n",
              "      <th>2</th>\n",
              "      <td>Process Controls Staff Engineer - Foxboro I/A ...</td>\n",
              "      <td>US, TX, USA Southwest</td>\n",
              "      <td>Experienced Process Controls Staff Engineer is...</td>\n",
              "      <td>At least 10 years of degreed professional expe...</td>\n",
              "      <td>0</td>\n",
              "      <td>0</td>\n",
              "      <td>0</td>\n",
              "      <td>0</td>\n",
              "    </tr>\n",
              "    <tr>\n",
              "      <th>3</th>\n",
              "      <td>Experienced Telemarketer Wanted - Digital Solu...</td>\n",
              "      <td>AU, NSW,</td>\n",
              "      <td>If you have a passion for people and love to s...</td>\n",
              "      <td>Responsibilities - Prospecting, following up a...</td>\n",
              "      <td>0</td>\n",
              "      <td>1</td>\n",
              "      <td>0</td>\n",
              "      <td>0</td>\n",
              "    </tr>\n",
              "    <tr>\n",
              "      <th>4</th>\n",
              "      <td>Senior Network Engineer</td>\n",
              "      <td>GB, ENG, London</td>\n",
              "      <td>As the successful Senior Network Engineer you ...</td>\n",
              "      <td>Essential skills:•Juniper switching/routing/se...</td>\n",
              "      <td>0</td>\n",
              "      <td>1</td>\n",
              "      <td>0</td>\n",
              "      <td>0</td>\n",
              "    </tr>\n",
              "  </tbody>\n",
              "</table>\n",
              "</div>\n",
              "    <div class=\"colab-df-buttons\">\n",
              "\n",
              "  <div class=\"colab-df-container\">\n",
              "    <button class=\"colab-df-convert\" onclick=\"convertToInteractive('df-772b64f1-4f51-4185-9f62-e78de44f5787')\"\n",
              "            title=\"Convert this dataframe to an interactive table.\"\n",
              "            style=\"display:none;\">\n",
              "\n",
              "  <svg xmlns=\"http://www.w3.org/2000/svg\" height=\"24px\" viewBox=\"0 -960 960 960\">\n",
              "    <path d=\"M120-120v-720h720v720H120Zm60-500h600v-160H180v160Zm220 220h160v-160H400v160Zm0 220h160v-160H400v160ZM180-400h160v-160H180v160Zm440 0h160v-160H620v160ZM180-180h160v-160H180v160Zm440 0h160v-160H620v160Z\"/>\n",
              "  </svg>\n",
              "    </button>\n",
              "\n",
              "  <style>\n",
              "    .colab-df-container {\n",
              "      display:flex;\n",
              "      gap: 12px;\n",
              "    }\n",
              "\n",
              "    .colab-df-convert {\n",
              "      background-color: #E8F0FE;\n",
              "      border: none;\n",
              "      border-radius: 50%;\n",
              "      cursor: pointer;\n",
              "      display: none;\n",
              "      fill: #1967D2;\n",
              "      height: 32px;\n",
              "      padding: 0 0 0 0;\n",
              "      width: 32px;\n",
              "    }\n",
              "\n",
              "    .colab-df-convert:hover {\n",
              "      background-color: #E2EBFA;\n",
              "      box-shadow: 0px 1px 2px rgba(60, 64, 67, 0.3), 0px 1px 3px 1px rgba(60, 64, 67, 0.15);\n",
              "      fill: #174EA6;\n",
              "    }\n",
              "\n",
              "    .colab-df-buttons div {\n",
              "      margin-bottom: 4px;\n",
              "    }\n",
              "\n",
              "    [theme=dark] .colab-df-convert {\n",
              "      background-color: #3B4455;\n",
              "      fill: #D2E3FC;\n",
              "    }\n",
              "\n",
              "    [theme=dark] .colab-df-convert:hover {\n",
              "      background-color: #434B5C;\n",
              "      box-shadow: 0px 1px 3px 1px rgba(0, 0, 0, 0.15);\n",
              "      filter: drop-shadow(0px 1px 2px rgba(0, 0, 0, 0.3));\n",
              "      fill: #FFFFFF;\n",
              "    }\n",
              "  </style>\n",
              "\n",
              "    <script>\n",
              "      const buttonEl =\n",
              "        document.querySelector('#df-772b64f1-4f51-4185-9f62-e78de44f5787 button.colab-df-convert');\n",
              "      buttonEl.style.display =\n",
              "        google.colab.kernel.accessAllowed ? 'block' : 'none';\n",
              "\n",
              "      async function convertToInteractive(key) {\n",
              "        const element = document.querySelector('#df-772b64f1-4f51-4185-9f62-e78de44f5787');\n",
              "        const dataTable =\n",
              "          await google.colab.kernel.invokeFunction('convertToInteractive',\n",
              "                                                    [key], {});\n",
              "        if (!dataTable) return;\n",
              "\n",
              "        const docLinkHtml = 'Like what you see? Visit the ' +\n",
              "          '<a target=\"_blank\" href=https://colab.research.google.com/notebooks/data_table.ipynb>data table notebook</a>'\n",
              "          + ' to learn more about interactive tables.';\n",
              "        element.innerHTML = '';\n",
              "        dataTable['output_type'] = 'display_data';\n",
              "        await google.colab.output.renderOutput(dataTable, element);\n",
              "        const docLink = document.createElement('div');\n",
              "        docLink.innerHTML = docLinkHtml;\n",
              "        element.appendChild(docLink);\n",
              "      }\n",
              "    </script>\n",
              "  </div>\n",
              "\n",
              "\n",
              "<div id=\"df-a5acd6cc-1787-43bd-a35e-aeb305a26aa0\">\n",
              "  <button class=\"colab-df-quickchart\" onclick=\"quickchart('df-a5acd6cc-1787-43bd-a35e-aeb305a26aa0')\"\n",
              "            title=\"Suggest charts\"\n",
              "            style=\"display:none;\">\n",
              "\n",
              "<svg xmlns=\"http://www.w3.org/2000/svg\" height=\"24px\"viewBox=\"0 0 24 24\"\n",
              "     width=\"24px\">\n",
              "    <g>\n",
              "        <path d=\"M19 3H5c-1.1 0-2 .9-2 2v14c0 1.1.9 2 2 2h14c1.1 0 2-.9 2-2V5c0-1.1-.9-2-2-2zM9 17H7v-7h2v7zm4 0h-2V7h2v10zm4 0h-2v-4h2v4z\"/>\n",
              "    </g>\n",
              "</svg>\n",
              "  </button>\n",
              "\n",
              "<style>\n",
              "  .colab-df-quickchart {\n",
              "      --bg-color: #E8F0FE;\n",
              "      --fill-color: #1967D2;\n",
              "      --hover-bg-color: #E2EBFA;\n",
              "      --hover-fill-color: #174EA6;\n",
              "      --disabled-fill-color: #AAA;\n",
              "      --disabled-bg-color: #DDD;\n",
              "  }\n",
              "\n",
              "  [theme=dark] .colab-df-quickchart {\n",
              "      --bg-color: #3B4455;\n",
              "      --fill-color: #D2E3FC;\n",
              "      --hover-bg-color: #434B5C;\n",
              "      --hover-fill-color: #FFFFFF;\n",
              "      --disabled-bg-color: #3B4455;\n",
              "      --disabled-fill-color: #666;\n",
              "  }\n",
              "\n",
              "  .colab-df-quickchart {\n",
              "    background-color: var(--bg-color);\n",
              "    border: none;\n",
              "    border-radius: 50%;\n",
              "    cursor: pointer;\n",
              "    display: none;\n",
              "    fill: var(--fill-color);\n",
              "    height: 32px;\n",
              "    padding: 0;\n",
              "    width: 32px;\n",
              "  }\n",
              "\n",
              "  .colab-df-quickchart:hover {\n",
              "    background-color: var(--hover-bg-color);\n",
              "    box-shadow: 0 1px 2px rgba(60, 64, 67, 0.3), 0 1px 3px 1px rgba(60, 64, 67, 0.15);\n",
              "    fill: var(--button-hover-fill-color);\n",
              "  }\n",
              "\n",
              "  .colab-df-quickchart-complete:disabled,\n",
              "  .colab-df-quickchart-complete:disabled:hover {\n",
              "    background-color: var(--disabled-bg-color);\n",
              "    fill: var(--disabled-fill-color);\n",
              "    box-shadow: none;\n",
              "  }\n",
              "\n",
              "  .colab-df-spinner {\n",
              "    border: 2px solid var(--fill-color);\n",
              "    border-color: transparent;\n",
              "    border-bottom-color: var(--fill-color);\n",
              "    animation:\n",
              "      spin 1s steps(1) infinite;\n",
              "  }\n",
              "\n",
              "  @keyframes spin {\n",
              "    0% {\n",
              "      border-color: transparent;\n",
              "      border-bottom-color: var(--fill-color);\n",
              "      border-left-color: var(--fill-color);\n",
              "    }\n",
              "    20% {\n",
              "      border-color: transparent;\n",
              "      border-left-color: var(--fill-color);\n",
              "      border-top-color: var(--fill-color);\n",
              "    }\n",
              "    30% {\n",
              "      border-color: transparent;\n",
              "      border-left-color: var(--fill-color);\n",
              "      border-top-color: var(--fill-color);\n",
              "      border-right-color: var(--fill-color);\n",
              "    }\n",
              "    40% {\n",
              "      border-color: transparent;\n",
              "      border-right-color: var(--fill-color);\n",
              "      border-top-color: var(--fill-color);\n",
              "    }\n",
              "    60% {\n",
              "      border-color: transparent;\n",
              "      border-right-color: var(--fill-color);\n",
              "    }\n",
              "    80% {\n",
              "      border-color: transparent;\n",
              "      border-right-color: var(--fill-color);\n",
              "      border-bottom-color: var(--fill-color);\n",
              "    }\n",
              "    90% {\n",
              "      border-color: transparent;\n",
              "      border-bottom-color: var(--fill-color);\n",
              "    }\n",
              "  }\n",
              "</style>\n",
              "\n",
              "  <script>\n",
              "    async function quickchart(key) {\n",
              "      const quickchartButtonEl =\n",
              "        document.querySelector('#' + key + ' button');\n",
              "      quickchartButtonEl.disabled = true;  // To prevent multiple clicks.\n",
              "      quickchartButtonEl.classList.add('colab-df-spinner');\n",
              "      try {\n",
              "        const charts = await google.colab.kernel.invokeFunction(\n",
              "            'suggestCharts', [key], {});\n",
              "      } catch (error) {\n",
              "        console.error('Error during call to suggestCharts:', error);\n",
              "      }\n",
              "      quickchartButtonEl.classList.remove('colab-df-spinner');\n",
              "      quickchartButtonEl.classList.add('colab-df-quickchart-complete');\n",
              "    }\n",
              "    (() => {\n",
              "      let quickchartButtonEl =\n",
              "        document.querySelector('#df-a5acd6cc-1787-43bd-a35e-aeb305a26aa0 button');\n",
              "      quickchartButtonEl.style.display =\n",
              "        google.colab.kernel.accessAllowed ? 'block' : 'none';\n",
              "    })();\n",
              "  </script>\n",
              "</div>\n",
              "\n",
              "    </div>\n",
              "  </div>\n"
            ],
            "application/vnd.google.colaboratory.intrinsic+json": {
              "type": "dataframe",
              "variable_name": "df",
              "summary": "{\n  \"name\": \"df\",\n  \"rows\": 8940,\n  \"fields\": [\n    {\n      \"column\": \"title\",\n      \"properties\": {\n        \"dtype\": \"string\",\n        \"num_unique_values\": 6132,\n        \"samples\": [\n          \"Marketing Support Manager\",\n          \"Software Developers\",\n          \"Ntynomai.gr Associate\"\n        ],\n        \"semantic_type\": \"\",\n        \"description\": \"\"\n      }\n    },\n    {\n      \"column\": \"location\",\n      \"properties\": {\n        \"dtype\": \"category\",\n        \"num_unique_values\": 2131,\n        \"samples\": [\n          \"US, , San Francisco\",\n          \"GR, I, Alimos\",\n          \"US, OH, Independence \"\n        ],\n        \"semantic_type\": \"\",\n        \"description\": \"\"\n      }\n    },\n    {\n      \"column\": \"description\",\n      \"properties\": {\n        \"dtype\": \"string\",\n        \"num_unique_values\": 7767,\n        \"samples\": [\n          \"This is fantastic opportunity for someone wanting to start their career in Warehouse. During the first 12 months you will work towards a Level 2 Warehouse NVQ and then be kept on in a permanent position.\\u00a0You will be working for Warehousing company and the role will involve:\\u00a0\\u2022\\u00a0\\u00a0\\u00a0\\u00a0\\u00a0\\u00a0\\u00a0\\u00a0\\u00a0\\u00a0 Assisting fork lift truck drivers with order picking\\u2022\\u00a0\\u00a0\\u00a0\\u00a0\\u00a0\\u00a0\\u00a0\\u00a0\\u00a0\\u00a0 Moving pallets using a pump truck\\u2022\\u00a0\\u00a0\\u00a0\\u00a0\\u00a0\\u00a0\\u00a0\\u00a0\\u00a0\\u00a0 Wrapping pallets\\u2022\\u00a0\\u00a0\\u00a0\\u00a0\\u00a0\\u00a0\\u00a0\\u00a0\\u00a0\\u00a0 Counting stock received\\u2022\\u00a0\\u00a0\\u00a0\\u00a0\\u00a0\\u00a0\\u00a0\\u00a0\\u00a0\\u00a0 Palletising stock\\u2022\\u00a0\\u00a0\\u00a0\\u00a0\\u00a0\\u00a0\\u00a0\\u00a0\\u00a0\\u00a0 Preparing pallets for despatch\\u2022\\u00a0\\u00a0\\u00a0\\u00a0\\u00a0\\u00a0\\u00a0\\u00a0\\u00a0\\u00a0 Unloading cartons from containers\\u2022\\u00a0\\u00a0\\u00a0\\u00a0\\u00a0\\u00a0\\u00a0\\u00a0\\u00a0\\u00a0 General house keeping\\u00a0Ideal candidates will be Hardworking and have excellent communication skills.If you are honest and hard working send your CV to #EMAIL_0e92123d11734167533acc44a2e74ffac0b6f56d256225a89769e0641a3d1aee#\",\n          \"We are seeking to add a new leader to our growing company.\\u00a0 We are seeking a passionate professional to help us design, build and innovate strategies within our direct marketing and business development functions.\\u00a0 This person will provide thought leadership to our company towards increasing franchise value through new product development and building scalable distribution channels.Overview:This is a rare opportunity for a truly driven professional to drive strategic and operational development in a transformative business during the early stages of its \\u201cJ\\u201d curve.\\u00a0 We have built and operate a world-class technology platform that delivers commercial loans up to $500,000 to businesses nationwide using credit and business process automation.\\u00a0 We are backed by one of the largest private equity firms specializing in the consumer and commercial finance industry and our business is growing substantially.\\u00a0This role will report to our Chief Executive Officer directly.\\u00a0 This professional will build out our systems, processes and personnel to:Drive customer demand through direct marketing effortsOversee a highly talented team of business development professionals that are working within specific industry verticals and other markets to build scalable distribution partnershipsIdentify, negotiate and execute large-scale partnerships to drive customer activityOversee brand development and increased brand awarenessLocationNew York, NY or Reston, VirginiaCompanyFundation is a high growth, private equity backed company. \\u00a0Our innovative platform uses advanced technology to predict credit risk and price loans for the small balance commercial loan market (loans of $50,000 to $500,000).\\u00a0 Our product and brand was carefully designed to create a unique value proposition for small businesses seeking debt financing: expedient credit decisions, a simple application process, simple products, competitive pricing and all electronic processing.\\u00a0 We intend to originate over a billion dollars of small balance commercial loans in the next several years.\",\n          \"WANTED:\\u00a0 A fearless, scrappy intern with a lively attitude and eager mind. The Experience Intern will be integrated into the operations of the marketing/experience/design team for the most innovative operations management technology in the world. Wanna help?\\u00a0What you\\u2019ll have the opportunity to do\\u2026You will write blogs, articles, press releases, and copy for promotional materials.You\\u2019ll assist in maintaining and updating SEO (Search Engine Optimized) content for #URL_06cd7fd2568e5872fff66dded2f3850651147086d6fb359e0105f557b3e6d61e#. \\u00a0 \\u00a0 \\u00a0 \\u00a0You\\u2019ll assist in the development of advertising copy for email campaigns. \\u00a0 \\u00a0 \\u00a0 \\u00a0Review and input content for technical support documentation. \\u00a0 \\u00a0 \\u00a0\\u00a0Interview clients for background information on customer success stories. \\u00a0 \\u00a0 \\u00a0 \\u00a0You\\u2019ll be involved in the day-to-day operations of an internal Marketing/Experience/Design team. \\u00a0 \\u00a0 \\u00a0 \\u00a0\\u00a0You\\u2019ll work with and learn from a crack team of marketing, content and design professionals. \\u00a0 \\u00a0 \\u00a0You\\u2019ll floor everyone with a barrage of fresh ideas about corporate culture. \\u00a0 \\u00a0 \\u00a0 \\u00a0You\\u2019ll constantly brag to your friends about how much your summer internship rules. \\u00a0\\u00a0\\u00a0\"\n        ],\n        \"semantic_type\": \"\",\n        \"description\": \"\"\n      }\n    },\n    {\n      \"column\": \"requirements\",\n      \"properties\": {\n        \"dtype\": \"string\",\n        \"num_unique_values\": 6327,\n        \"samples\": [\n          \"Prior hands on experience caring for animals other than caring for personal pets.\",\n          \"Abilities and SkillsAbility to gather and accurately convey verbal and written information to customers via the phoneAbility to maintain a reliable schedule, be detail-orientated and provide excellent customer serviceExperience using Microsoft Office and other databasesExperience or knowledge of county social service and human service systems a plus\\u00a0QualificationsAbility to relate to and communicate effectively with people from diverse backgrounds, socio-economic and diverse culturesAbility to relate to and communicate effectively with seniorsBilingual abilities a plusValid Driver\\u2019s license and reliable transportation preferred.\\u00a0\",\n          \"Experience. You have:5+ years of industry gained development experience with a track record of delivering high quality software products. Ideally, some of that experience is at a start-up (or in a start-up like environment) and some at a public-facing web service.\\u00a0expert Java based web app development,\\u00a0strong SQL, HTML, CSS, Javascript and ideally some interest in Groovya strong understanding of computer science. Expertise in application design and how to keep it simple even as requirements grow.web testing and troubleshooting skills and a familiarity with tools such as Selenium.a demonstrable record of innovation and unconventional thinking that shows you've worked smarter - not just harder.excellent organizational, communication and soft skills.experience in a light-weight, feedback driven, rapid turnaround engineering environment.a strong academic record, as a graduate in a science or technology subject.Personal Attributes. You are a:passionate advocate of concise and simple code, designs and applications.technical leader, a person who inspires trust and confidence in your peers.great team member \\u2013 with the confidence to admit errors, follow as well as direct, and learn as well as teach.person who thrives in a fast paced environment.You can:hold your own in a detailed web architecture discussion with a top programmer and in a user\\u00a0centered\\u00a0design discussion with product experts.demonstrate a strong sense of personal integrity and accountability.accept and act upon constructive criticism.\"\n        ],\n        \"semantic_type\": \"\",\n        \"description\": \"\"\n      }\n    },\n    {\n      \"column\": \"telecommuting\",\n      \"properties\": {\n        \"dtype\": \"number\",\n        \"std\": 0,\n        \"min\": 0,\n        \"max\": 1,\n        \"num_unique_values\": 2,\n        \"samples\": [\n          1,\n          0\n        ],\n        \"semantic_type\": \"\",\n        \"description\": \"\"\n      }\n    },\n    {\n      \"column\": \"has_company_logo\",\n      \"properties\": {\n        \"dtype\": \"number\",\n        \"std\": 0,\n        \"min\": 0,\n        \"max\": 1,\n        \"num_unique_values\": 2,\n        \"samples\": [\n          0,\n          1\n        ],\n        \"semantic_type\": \"\",\n        \"description\": \"\"\n      }\n    },\n    {\n      \"column\": \"has_questions\",\n      \"properties\": {\n        \"dtype\": \"number\",\n        \"std\": 0,\n        \"min\": 0,\n        \"max\": 1,\n        \"num_unique_values\": 2,\n        \"samples\": [\n          1,\n          0\n        ],\n        \"semantic_type\": \"\",\n        \"description\": \"\"\n      }\n    },\n    {\n      \"column\": \"fraudulent\",\n      \"properties\": {\n        \"dtype\": \"number\",\n        \"std\": 0,\n        \"min\": 0,\n        \"max\": 1,\n        \"num_unique_values\": 2,\n        \"samples\": [\n          1,\n          0\n        ],\n        \"semantic_type\": \"\",\n        \"description\": \"\"\n      }\n    }\n  ]\n}"
            }
          },
          "metadata": {},
          "execution_count": 48
        }
      ]
    },
    {
      "cell_type": "code",
      "source": [
        "df.shape"
      ],
      "metadata": {
        "colab": {
          "base_uri": "https://localhost:8080/"
        },
        "id": "ncouL0X1ddaH",
        "outputId": "0b08f37c-7f59-492d-f25b-6fe1e1d6b4bc"
      },
      "execution_count": null,
      "outputs": [
        {
          "output_type": "execute_result",
          "data": {
            "text/plain": [
              "(8940, 8)"
            ]
          },
          "metadata": {},
          "execution_count": 49
        }
      ]
    },
    {
      "cell_type": "code",
      "source": [
        "df.info()"
      ],
      "metadata": {
        "colab": {
          "base_uri": "https://localhost:8080/"
        },
        "id": "WwmYOLeMKINR",
        "outputId": "9097ec4d-a1d8-4193-e841-4858bdb77ee8"
      },
      "execution_count": null,
      "outputs": [
        {
          "output_type": "stream",
          "name": "stdout",
          "text": [
            "<class 'pandas.core.frame.DataFrame'>\n",
            "RangeIndex: 8940 entries, 0 to 8939\n",
            "Data columns (total 8 columns):\n",
            " #   Column            Non-Null Count  Dtype \n",
            "---  ------            --------------  ----- \n",
            " 0   title             8940 non-null   object\n",
            " 1   location          8783 non-null   object\n",
            " 2   description       8939 non-null   object\n",
            " 3   requirements      7614 non-null   object\n",
            " 4   telecommuting     8940 non-null   int64 \n",
            " 5   has_company_logo  8940 non-null   int64 \n",
            " 6   has_questions     8940 non-null   int64 \n",
            " 7   fraudulent        8940 non-null   int64 \n",
            "dtypes: int64(4), object(4)\n",
            "memory usage: 558.9+ KB\n"
          ]
        }
      ]
    },
    {
      "cell_type": "markdown",
      "source": [
        "From above we know that,\n",
        "\n",
        "The dataset contains 8 columns and 8,940 rows, with the following features:\n",
        "\n",
        "\n",
        "*   title (object): The job title.\n",
        "*   location (object): The location of the job, with some missing values.\n",
        "\n",
        "*   description (object): The job description.\n",
        "\n",
        "*   requirements (object): The job requirements, with some missing values.\n",
        "*   telecommuting (int64): Binary indicator (0 or 1) of whether the job is remote.\n",
        "\n",
        "\n",
        "*   has_company_logo (int64): Binary indicator (0 or 1) of whether the job posting includes a company logo.\n",
        "\n",
        "\n",
        "*   has_questions (int64): Binary indicator (0 or 1) of whether the job posting includes screening questions.\n",
        "*   fraudulent (int64): The target variable indicating if the job is fraudulent (1) or not (0)."
      ],
      "metadata": {
        "id": "ElVEwXuvJVZ6"
      }
    },
    {
      "cell_type": "markdown",
      "source": [
        "Data Preprocessing"
      ],
      "metadata": {
        "id": "soEvj8CNbz2Z"
      }
    },
    {
      "cell_type": "code",
      "source": [
        "df.isnull().sum()"
      ],
      "metadata": {
        "colab": {
          "base_uri": "https://localhost:8080/",
          "height": 335
        },
        "id": "DwpVdSjtJ2Hv",
        "outputId": "4bd46bbb-a80c-42c5-8823-e25a3152d00b"
      },
      "execution_count": null,
      "outputs": [
        {
          "output_type": "execute_result",
          "data": {
            "text/plain": [
              "title                  0\n",
              "location             157\n",
              "description            1\n",
              "requirements        1326\n",
              "telecommuting          0\n",
              "has_company_logo       0\n",
              "has_questions          0\n",
              "fraudulent             0\n",
              "dtype: int64"
            ],
            "text/html": [
              "<div>\n",
              "<style scoped>\n",
              "    .dataframe tbody tr th:only-of-type {\n",
              "        vertical-align: middle;\n",
              "    }\n",
              "\n",
              "    .dataframe tbody tr th {\n",
              "        vertical-align: top;\n",
              "    }\n",
              "\n",
              "    .dataframe thead th {\n",
              "        text-align: right;\n",
              "    }\n",
              "</style>\n",
              "<table border=\"1\" class=\"dataframe\">\n",
              "  <thead>\n",
              "    <tr style=\"text-align: right;\">\n",
              "      <th></th>\n",
              "      <th>0</th>\n",
              "    </tr>\n",
              "  </thead>\n",
              "  <tbody>\n",
              "    <tr>\n",
              "      <th>title</th>\n",
              "      <td>0</td>\n",
              "    </tr>\n",
              "    <tr>\n",
              "      <th>location</th>\n",
              "      <td>157</td>\n",
              "    </tr>\n",
              "    <tr>\n",
              "      <th>description</th>\n",
              "      <td>1</td>\n",
              "    </tr>\n",
              "    <tr>\n",
              "      <th>requirements</th>\n",
              "      <td>1326</td>\n",
              "    </tr>\n",
              "    <tr>\n",
              "      <th>telecommuting</th>\n",
              "      <td>0</td>\n",
              "    </tr>\n",
              "    <tr>\n",
              "      <th>has_company_logo</th>\n",
              "      <td>0</td>\n",
              "    </tr>\n",
              "    <tr>\n",
              "      <th>has_questions</th>\n",
              "      <td>0</td>\n",
              "    </tr>\n",
              "    <tr>\n",
              "      <th>fraudulent</th>\n",
              "      <td>0</td>\n",
              "    </tr>\n",
              "  </tbody>\n",
              "</table>\n",
              "</div><br><label><b>dtype:</b> int64</label>"
            ]
          },
          "metadata": {},
          "execution_count": 14
        }
      ]
    },
    {
      "cell_type": "markdown",
      "source": [
        "From above we came to know that there are some missing values in the dataset."
      ],
      "metadata": {
        "id": "VG7TtyhGKAyp"
      }
    },
    {
      "cell_type": "markdown",
      "source": [
        "Handling Missing Values"
      ],
      "metadata": {
        "id": "cUXPLZgAMaQS"
      }
    },
    {
      "cell_type": "code",
      "source": [
        "# Filling the missing description value with an empty string\n",
        "df['description'].fillna('',inplace=True)"
      ],
      "metadata": {
        "id": "fFHkP02ALSs3"
      },
      "execution_count": null,
      "outputs": []
    },
    {
      "cell_type": "code",
      "source": [
        "# Filling the missing location value with 'Unknown' string\n",
        "df['location'].fillna('Unknown',inplace=True)\n",
        "\n",
        "# Filling the missing requirements value with an empty string\n",
        "df['requirements'].fillna('',inplace=True)"
      ],
      "metadata": {
        "id": "iRnhkB9DL8cH"
      },
      "execution_count": null,
      "outputs": []
    },
    {
      "cell_type": "code",
      "source": [
        "df.isnull().sum()"
      ],
      "metadata": {
        "colab": {
          "base_uri": "https://localhost:8080/",
          "height": 335
        },
        "id": "oKqr-K2FLq12",
        "outputId": "cf5560ab-0fd5-43d6-8a5b-fad3a7a13678"
      },
      "execution_count": null,
      "outputs": [
        {
          "output_type": "execute_result",
          "data": {
            "text/plain": [
              "title               0\n",
              "location            0\n",
              "description         0\n",
              "requirements        0\n",
              "telecommuting       0\n",
              "has_company_logo    0\n",
              "has_questions       0\n",
              "fraudulent          0\n",
              "dtype: int64"
            ],
            "text/html": [
              "<div>\n",
              "<style scoped>\n",
              "    .dataframe tbody tr th:only-of-type {\n",
              "        vertical-align: middle;\n",
              "    }\n",
              "\n",
              "    .dataframe tbody tr th {\n",
              "        vertical-align: top;\n",
              "    }\n",
              "\n",
              "    .dataframe thead th {\n",
              "        text-align: right;\n",
              "    }\n",
              "</style>\n",
              "<table border=\"1\" class=\"dataframe\">\n",
              "  <thead>\n",
              "    <tr style=\"text-align: right;\">\n",
              "      <th></th>\n",
              "      <th>0</th>\n",
              "    </tr>\n",
              "  </thead>\n",
              "  <tbody>\n",
              "    <tr>\n",
              "      <th>title</th>\n",
              "      <td>0</td>\n",
              "    </tr>\n",
              "    <tr>\n",
              "      <th>location</th>\n",
              "      <td>0</td>\n",
              "    </tr>\n",
              "    <tr>\n",
              "      <th>description</th>\n",
              "      <td>0</td>\n",
              "    </tr>\n",
              "    <tr>\n",
              "      <th>requirements</th>\n",
              "      <td>0</td>\n",
              "    </tr>\n",
              "    <tr>\n",
              "      <th>telecommuting</th>\n",
              "      <td>0</td>\n",
              "    </tr>\n",
              "    <tr>\n",
              "      <th>has_company_logo</th>\n",
              "      <td>0</td>\n",
              "    </tr>\n",
              "    <tr>\n",
              "      <th>has_questions</th>\n",
              "      <td>0</td>\n",
              "    </tr>\n",
              "    <tr>\n",
              "      <th>fraudulent</th>\n",
              "      <td>0</td>\n",
              "    </tr>\n",
              "  </tbody>\n",
              "</table>\n",
              "</div><br><label><b>dtype:</b> int64</label>"
            ]
          },
          "metadata": {},
          "execution_count": 25
        }
      ]
    },
    {
      "cell_type": "markdown",
      "source": [
        "Now Encoding the text data\n",
        "\n",
        "for easy text features such as 'title' and 'location' using label encoding\n",
        "\n",
        "and for heavy text features such as 'desciption' and 'requirements' using TF-IDF (Term Frequency-Inverse Document Frequency) to  quantify the importance or relevance of string representations."
      ],
      "metadata": {
        "id": "lLwbt1EiNG-F"
      }
    },
    {
      "cell_type": "code",
      "source": [
        "df['title'].unique()"
      ],
      "metadata": {
        "colab": {
          "base_uri": "https://localhost:8080/"
        },
        "id": "_k7vVxL4cCEc",
        "outputId": "588f38e6-74ea-4c95-d5ce-7fed7adfcb89"
      },
      "execution_count": null,
      "outputs": [
        {
          "output_type": "execute_result",
          "data": {
            "text/plain": [
              "array(['Architect (Middleware - MQ) - Kuwait',\n",
              "       'Interviewing Now for Sales Rep Positions -- with Management Training',\n",
              "       'Process Controls Staff Engineer - Foxboro I/A TriconexSIS - TX',\n",
              "       ..., 'Head of Customer Support', 'Customer Care Consultant',\n",
              "       'Data Manager--Fixed Income'], dtype=object)"
            ]
          },
          "metadata": {},
          "execution_count": 54
        }
      ]
    },
    {
      "cell_type": "code",
      "source": [
        "df['title'].value_counts()"
      ],
      "metadata": {
        "colab": {
          "base_uri": "https://localhost:8080/",
          "height": 489
        },
        "id": "LyZ2jYwmiTN4",
        "outputId": "a611b8ea-d33d-4303-f7cb-780d07964a1c"
      },
      "execution_count": null,
      "outputs": [
        {
          "output_type": "execute_result",
          "data": {
            "text/plain": [
              "title\n",
              "English Teacher Abroad                                152\n",
              "Customer Service Associate                             82\n",
              "Graduates: English Teacher Abroad (Conversational)     70\n",
              "English Teacher Abroad (Conversational)                47\n",
              "English Teacher Abroad                                 44\n",
              "                                                     ... \n",
              "Machine Operator                                        1\n",
              "Account Executive - Sydney                              1\n",
              "Machine Builder Supervisor - Spring Lake, MI            1\n",
              "Finance Manager                                         1\n",
              "Data Manager--Fixed Income                              1\n",
              "Name: count, Length: 6132, dtype: int64"
            ],
            "text/html": [
              "<div>\n",
              "<style scoped>\n",
              "    .dataframe tbody tr th:only-of-type {\n",
              "        vertical-align: middle;\n",
              "    }\n",
              "\n",
              "    .dataframe tbody tr th {\n",
              "        vertical-align: top;\n",
              "    }\n",
              "\n",
              "    .dataframe thead th {\n",
              "        text-align: right;\n",
              "    }\n",
              "</style>\n",
              "<table border=\"1\" class=\"dataframe\">\n",
              "  <thead>\n",
              "    <tr style=\"text-align: right;\">\n",
              "      <th></th>\n",
              "      <th>count</th>\n",
              "    </tr>\n",
              "    <tr>\n",
              "      <th>title</th>\n",
              "      <th></th>\n",
              "    </tr>\n",
              "  </thead>\n",
              "  <tbody>\n",
              "    <tr>\n",
              "      <th>English Teacher Abroad</th>\n",
              "      <td>152</td>\n",
              "    </tr>\n",
              "    <tr>\n",
              "      <th>Customer Service Associate</th>\n",
              "      <td>82</td>\n",
              "    </tr>\n",
              "    <tr>\n",
              "      <th>Graduates: English Teacher Abroad (Conversational)</th>\n",
              "      <td>70</td>\n",
              "    </tr>\n",
              "    <tr>\n",
              "      <th>English Teacher Abroad (Conversational)</th>\n",
              "      <td>47</td>\n",
              "    </tr>\n",
              "    <tr>\n",
              "      <th>English Teacher Abroad</th>\n",
              "      <td>44</td>\n",
              "    </tr>\n",
              "    <tr>\n",
              "      <th>...</th>\n",
              "      <td>...</td>\n",
              "    </tr>\n",
              "    <tr>\n",
              "      <th>Machine Operator</th>\n",
              "      <td>1</td>\n",
              "    </tr>\n",
              "    <tr>\n",
              "      <th>Account Executive - Sydney</th>\n",
              "      <td>1</td>\n",
              "    </tr>\n",
              "    <tr>\n",
              "      <th>Machine Builder Supervisor - Spring Lake, MI</th>\n",
              "      <td>1</td>\n",
              "    </tr>\n",
              "    <tr>\n",
              "      <th>Finance Manager</th>\n",
              "      <td>1</td>\n",
              "    </tr>\n",
              "    <tr>\n",
              "      <th>Data Manager--Fixed Income</th>\n",
              "      <td>1</td>\n",
              "    </tr>\n",
              "  </tbody>\n",
              "</table>\n",
              "<p>6132 rows × 1 columns</p>\n",
              "</div><br><label><b>dtype:</b> int64</label>"
            ]
          },
          "metadata": {},
          "execution_count": 57
        }
      ]
    },
    {
      "cell_type": "code",
      "source": [
        "df['location'].unique()"
      ],
      "metadata": {
        "colab": {
          "base_uri": "https://localhost:8080/"
        },
        "id": "IncV1WqeieLU",
        "outputId": "e0910b76-f14f-4ef4-917e-8215f2ee6562"
      },
      "execution_count": null,
      "outputs": [
        {
          "output_type": "execute_result",
          "data": {
            "text/plain": [
              "array(['KW, KU, ', 'US, TX, Corpus Christi', 'US, TX, USA Southwest', ...,\n",
              "       'GR, I, Paiania', 'CA, ON, Peterborough', 'UA, 61, Ternopil'],\n",
              "      dtype=object)"
            ]
          },
          "metadata": {},
          "execution_count": 58
        }
      ]
    },
    {
      "cell_type": "code",
      "source": [
        "df['location'].value_counts()"
      ],
      "metadata": {
        "colab": {
          "base_uri": "https://localhost:8080/",
          "height": 489
        },
        "id": "UyaMeK8CcKOx",
        "outputId": "deb10f15-a4b4-4ea8-cc29-70191a7a0db1"
      },
      "execution_count": null,
      "outputs": [
        {
          "output_type": "execute_result",
          "data": {
            "text/plain": [
              "location\n",
              "GB, LND, London           367\n",
              "US, NY, New York          331\n",
              "GR, I, Athens             244\n",
              "US, CA, San Francisco     241\n",
              "US, ,                     180\n",
              "                         ... \n",
              "US, RI, West Greenwich      1\n",
              "US, SD, Rapid City          1\n",
              "US, NJ, Haddonfield         1\n",
              "US, NJ, Raritan             1\n",
              "UA, 61, Ternopil            1\n",
              "Name: count, Length: 2131, dtype: int64"
            ],
            "text/html": [
              "<div>\n",
              "<style scoped>\n",
              "    .dataframe tbody tr th:only-of-type {\n",
              "        vertical-align: middle;\n",
              "    }\n",
              "\n",
              "    .dataframe tbody tr th {\n",
              "        vertical-align: top;\n",
              "    }\n",
              "\n",
              "    .dataframe thead th {\n",
              "        text-align: right;\n",
              "    }\n",
              "</style>\n",
              "<table border=\"1\" class=\"dataframe\">\n",
              "  <thead>\n",
              "    <tr style=\"text-align: right;\">\n",
              "      <th></th>\n",
              "      <th>count</th>\n",
              "    </tr>\n",
              "    <tr>\n",
              "      <th>location</th>\n",
              "      <th></th>\n",
              "    </tr>\n",
              "  </thead>\n",
              "  <tbody>\n",
              "    <tr>\n",
              "      <th>GB, LND, London</th>\n",
              "      <td>367</td>\n",
              "    </tr>\n",
              "    <tr>\n",
              "      <th>US, NY, New York</th>\n",
              "      <td>331</td>\n",
              "    </tr>\n",
              "    <tr>\n",
              "      <th>GR, I, Athens</th>\n",
              "      <td>244</td>\n",
              "    </tr>\n",
              "    <tr>\n",
              "      <th>US, CA, San Francisco</th>\n",
              "      <td>241</td>\n",
              "    </tr>\n",
              "    <tr>\n",
              "      <th>US, ,</th>\n",
              "      <td>180</td>\n",
              "    </tr>\n",
              "    <tr>\n",
              "      <th>...</th>\n",
              "      <td>...</td>\n",
              "    </tr>\n",
              "    <tr>\n",
              "      <th>US, RI, West Greenwich</th>\n",
              "      <td>1</td>\n",
              "    </tr>\n",
              "    <tr>\n",
              "      <th>US, SD, Rapid City</th>\n",
              "      <td>1</td>\n",
              "    </tr>\n",
              "    <tr>\n",
              "      <th>US, NJ, Haddonfield</th>\n",
              "      <td>1</td>\n",
              "    </tr>\n",
              "    <tr>\n",
              "      <th>US, NJ, Raritan</th>\n",
              "      <td>1</td>\n",
              "    </tr>\n",
              "    <tr>\n",
              "      <th>UA, 61, Ternopil</th>\n",
              "      <td>1</td>\n",
              "    </tr>\n",
              "  </tbody>\n",
              "</table>\n",
              "<p>2131 rows × 1 columns</p>\n",
              "</div><br><label><b>dtype:</b> int64</label>"
            ]
          },
          "metadata": {},
          "execution_count": 59
        }
      ]
    },
    {
      "cell_type": "code",
      "source": [
        "# Initialize LabelEncoder for 'title' and 'location'\n",
        "label_encoder = LabelEncoder()\n",
        "\n",
        "# Apply Label Encoding to 'title' and 'location'\n",
        "df['title_encoded'] = label_encoder.fit_transform(df['title'])\n",
        "df['location_encoded'] = label_encoder.fit_transform(df['location'])\n",
        "\n",
        "# Initialize TF-IDF Vectorizer for 'description' and 'requirements'\n",
        "tfidf_vectorizer = TfidfVectorizer(max_features=500)\n",
        "\n",
        "# Apply TF-IDF Vectorization to 'description'\n",
        "description_tfidf = tfidf_vectorizer.fit_transform(df['description'])\n",
        "\n",
        "# Apply TF-IDF Vectorization to 'requirements'\n",
        "requirements_tfidf = tfidf_vectorizer.fit_transform(df['requirements'])\n",
        "\n",
        "# Convert TF-IDF matrices to DataFrames\n",
        "description_tfidf_df = pd.DataFrame(description_tfidf.toarray(), columns=tfidf_vectorizer.get_feature_names_out())\n",
        "requirements_tfidf_df = pd.DataFrame(requirements_tfidf.toarray(), columns=tfidf_vectorizer.get_feature_names_out())\n",
        "\n",
        "# Combine all the features into a single DataFrame\n",
        "encoded_data = pd.concat([df[['telecommuting', 'has_company_logo', 'has_questions', 'title_encoded', 'location_encoded']],\n",
        "                          description_tfidf_df, requirements_tfidf_df], axis=1)\n",
        "\n",
        "# Check the first few rows of the final encoded dataset\n",
        "print(encoded_data.head())"
      ],
      "metadata": {
        "colab": {
          "base_uri": "https://localhost:8080/"
        },
        "id": "2TYK_cqkNGr3",
        "outputId": "0027ad44-1732-4f24-86ba-c62b4290e25a"
      },
      "execution_count": null,
      "outputs": [
        {
          "output_type": "stream",
          "name": "stdout",
          "text": [
            "   telecommuting  has_company_logo  has_questions  title_encoded  \\\n",
            "0              0                 1              0            376   \n",
            "1              0                 1              0           2771   \n",
            "2              0                 0              0           3980   \n",
            "3              0                 1              0           1844   \n",
            "4              0                 1              0           4908   \n",
            "\n",
            "   location_encoded        10   18  ability     able  about  ...      work  \\\n",
            "0               662  0.000000  0.0      0.0  0.00000    0.0  ...  0.000000   \n",
            "1              1937  0.000000  0.0      0.0  0.00000    0.0  ...  0.000000   \n",
            "2              1990  0.000000  0.0      0.0  0.08084    0.0  ...  0.053053   \n",
            "3                21  0.152082  0.0      0.0  0.00000    0.0  ...  0.000000   \n",
            "4               343  0.000000  0.0      0.0  0.00000    0.0  ...  0.000000   \n",
            "\n",
            "    working  would  write  writing   written  year     years       you  \\\n",
            "0  0.069415    0.0    0.0      0.0  0.069063   0.0  0.054366  0.069981   \n",
            "1  0.000000    0.0    0.0      0.0  0.000000   0.0  0.000000  0.000000   \n",
            "2  0.000000    0.0    0.0      0.0  0.000000   0.0  0.079112  0.135780   \n",
            "3  0.052438    0.0    0.0      0.0  0.052173   0.0  0.000000  0.211464   \n",
            "4  0.278964    0.0    0.0      0.0  0.000000   0.0  0.000000  0.000000   \n",
            "\n",
            "       your  \n",
            "0  0.000000  \n",
            "1  0.000000  \n",
            "2  0.077698  \n",
            "3  0.242014  \n",
            "4  0.000000  \n",
            "\n",
            "[5 rows x 1005 columns]\n"
          ]
        }
      ]
    },
    {
      "cell_type": "markdown",
      "source": [
        "Splitting the dataset"
      ],
      "metadata": {
        "id": "WvganuurTq2o"
      }
    },
    {
      "cell_type": "code",
      "source": [
        "# encoded_data is the final dataset after preprocessing and encoding\n",
        "X = encoded_data\n",
        "y = df['fraudulent']  # Target variable\n",
        "\n",
        "# Split the data into training (80%) and testing (20%) sets\n",
        "X_train, X_test, y_train, y_test = train_test_split(X, y, test_size=0.2, random_state=42)"
      ],
      "metadata": {
        "id": "CI44xAhcTqhZ"
      },
      "execution_count": null,
      "outputs": []
    },
    {
      "cell_type": "markdown",
      "source": [
        "Fixing Imbalanced Dataset"
      ],
      "metadata": {
        "id": "s6J8zXD4T6Iv"
      }
    },
    {
      "cell_type": "code",
      "source": [
        "df['fraudulent'].value_counts()"
      ],
      "metadata": {
        "colab": {
          "base_uri": "https://localhost:8080/",
          "height": 178
        },
        "id": "ehD-cnD1R56A",
        "outputId": "9999023b-5ac6-41b6-c494-2096d74dd25b"
      },
      "execution_count": null,
      "outputs": [
        {
          "output_type": "execute_result",
          "data": {
            "text/plain": [
              "fraudulent\n",
              "0    8484\n",
              "1     456\n",
              "Name: count, dtype: int64"
            ],
            "text/html": [
              "<div>\n",
              "<style scoped>\n",
              "    .dataframe tbody tr th:only-of-type {\n",
              "        vertical-align: middle;\n",
              "    }\n",
              "\n",
              "    .dataframe tbody tr th {\n",
              "        vertical-align: top;\n",
              "    }\n",
              "\n",
              "    .dataframe thead th {\n",
              "        text-align: right;\n",
              "    }\n",
              "</style>\n",
              "<table border=\"1\" class=\"dataframe\">\n",
              "  <thead>\n",
              "    <tr style=\"text-align: right;\">\n",
              "      <th></th>\n",
              "      <th>count</th>\n",
              "    </tr>\n",
              "    <tr>\n",
              "      <th>fraudulent</th>\n",
              "      <th></th>\n",
              "    </tr>\n",
              "  </thead>\n",
              "  <tbody>\n",
              "    <tr>\n",
              "      <th>0</th>\n",
              "      <td>8484</td>\n",
              "    </tr>\n",
              "    <tr>\n",
              "      <th>1</th>\n",
              "      <td>456</td>\n",
              "    </tr>\n",
              "  </tbody>\n",
              "</table>\n",
              "</div><br><label><b>dtype:</b> int64</label>"
            ]
          },
          "metadata": {},
          "execution_count": 32
        }
      ]
    },
    {
      "cell_type": "markdown",
      "source": [
        "as we can see that our dataset is highly imbalanced so we will be using a technique called 'SMOTE' (Synthetic Minority Over-sampling Technique) to generate synthetic example rather than duplicating existing ones."
      ],
      "metadata": {
        "id": "yQ18Ag7XR7-K"
      }
    },
    {
      "cell_type": "code",
      "source": [
        "smote = SMOTE(sampling_strategy='auto', random_state=42)\n",
        "X_resampled, y_resampled = smote.fit_resample(X_train, y_train)\n",
        "print(X_resampled.shape, y_resampled.shape)"
      ],
      "metadata": {
        "colab": {
          "base_uri": "https://localhost:8080/"
        },
        "id": "FmolN3vUUJdI",
        "outputId": "91350645-51a6-4821-cecb-2b95c630601e"
      },
      "execution_count": null,
      "outputs": [
        {
          "output_type": "stream",
          "name": "stdout",
          "text": [
            "(13580, 1005) (13580,)\n"
          ]
        }
      ]
    },
    {
      "cell_type": "markdown",
      "source": [
        "Training the model"
      ],
      "metadata": {
        "id": "y_l62jUlKcBz"
      }
    },
    {
      "cell_type": "code",
      "source": [
        "from sklearn.model_selection import GridSearchCV\n",
        "from sklearn.ensemble import RandomForestClassifier\n",
        "\n",
        "# Define the parameter grid\n",
        "param_grid = {\n",
        "    'n_estimators': [50, 100, 200],\n",
        "    'max_depth': [None, 10, 20, 30],\n",
        "    'class_weight': ['balanced', None]\n",
        "}\n",
        "\n",
        "# Initialize the classifier\n",
        "rf = RandomForestClassifier(random_state=42)\n",
        "\n",
        "# Initialize GridSearchCV\n",
        "grid_search = GridSearchCV(estimator=rf, param_grid=param_grid, cv=5, scoring='roc_auc', n_jobs=-1, verbose=1)\n",
        "\n",
        "# Fit the model\n",
        "grid_search.fit(X_resampled, y_resampled)\n",
        "\n",
        "# Best parameters and score\n",
        "print(\"Best Parameters:\", grid_search.best_params_)\n",
        "print(\"Best Score:\", grid_search.best_score_)\n"
      ],
      "metadata": {
        "colab": {
          "base_uri": "https://localhost:8080/"
        },
        "id": "5c2lxGBzaJbX",
        "outputId": "ef29d173-7045-4323-b394-7abf69178500"
      },
      "execution_count": null,
      "outputs": [
        {
          "output_type": "stream",
          "name": "stdout",
          "text": [
            "Fitting 5 folds for each of 24 candidates, totalling 120 fits\n",
            "Best Parameters: {'class_weight': 'balanced', 'max_depth': None, 'n_estimators': 200}\n",
            "Best Score: 0.9997852685552913\n"
          ]
        }
      ]
    },
    {
      "cell_type": "code",
      "source": [
        "# Initialize the RandomForestClassifier\n",
        "model = RandomForestClassifier(class_weight='balanced', max_depth=None, n_estimators=200, random_state=42)\n",
        "\n",
        "# Train the model on the training data\n",
        "model.fit(X_resampled, y_resampled)"
      ],
      "metadata": {
        "colab": {
          "base_uri": "https://localhost:8080/",
          "height": 92
        },
        "id": "GGaqPEcwQmHP",
        "outputId": "27486125-d44e-4d2c-c939-469a7f6ead1a"
      },
      "execution_count": null,
      "outputs": [
        {
          "output_type": "execute_result",
          "data": {
            "text/plain": [
              "RandomForestClassifier(class_weight='balanced', n_estimators=200,\n",
              "                       random_state=42)"
            ],
            "text/html": [
              "<style>#sk-container-id-4 {color: black;}#sk-container-id-4 pre{padding: 0;}#sk-container-id-4 div.sk-toggleable {background-color: white;}#sk-container-id-4 label.sk-toggleable__label {cursor: pointer;display: block;width: 100%;margin-bottom: 0;padding: 0.3em;box-sizing: border-box;text-align: center;}#sk-container-id-4 label.sk-toggleable__label-arrow:before {content: \"▸\";float: left;margin-right: 0.25em;color: #696969;}#sk-container-id-4 label.sk-toggleable__label-arrow:hover:before {color: black;}#sk-container-id-4 div.sk-estimator:hover label.sk-toggleable__label-arrow:before {color: black;}#sk-container-id-4 div.sk-toggleable__content {max-height: 0;max-width: 0;overflow: hidden;text-align: left;background-color: #f0f8ff;}#sk-container-id-4 div.sk-toggleable__content pre {margin: 0.2em;color: black;border-radius: 0.25em;background-color: #f0f8ff;}#sk-container-id-4 input.sk-toggleable__control:checked~div.sk-toggleable__content {max-height: 200px;max-width: 100%;overflow: auto;}#sk-container-id-4 input.sk-toggleable__control:checked~label.sk-toggleable__label-arrow:before {content: \"▾\";}#sk-container-id-4 div.sk-estimator input.sk-toggleable__control:checked~label.sk-toggleable__label {background-color: #d4ebff;}#sk-container-id-4 div.sk-label input.sk-toggleable__control:checked~label.sk-toggleable__label {background-color: #d4ebff;}#sk-container-id-4 input.sk-hidden--visually {border: 0;clip: rect(1px 1px 1px 1px);clip: rect(1px, 1px, 1px, 1px);height: 1px;margin: -1px;overflow: hidden;padding: 0;position: absolute;width: 1px;}#sk-container-id-4 div.sk-estimator {font-family: monospace;background-color: #f0f8ff;border: 1px dotted black;border-radius: 0.25em;box-sizing: border-box;margin-bottom: 0.5em;}#sk-container-id-4 div.sk-estimator:hover {background-color: #d4ebff;}#sk-container-id-4 div.sk-parallel-item::after {content: \"\";width: 100%;border-bottom: 1px solid gray;flex-grow: 1;}#sk-container-id-4 div.sk-label:hover label.sk-toggleable__label {background-color: #d4ebff;}#sk-container-id-4 div.sk-serial::before {content: \"\";position: absolute;border-left: 1px solid gray;box-sizing: border-box;top: 0;bottom: 0;left: 50%;z-index: 0;}#sk-container-id-4 div.sk-serial {display: flex;flex-direction: column;align-items: center;background-color: white;padding-right: 0.2em;padding-left: 0.2em;position: relative;}#sk-container-id-4 div.sk-item {position: relative;z-index: 1;}#sk-container-id-4 div.sk-parallel {display: flex;align-items: stretch;justify-content: center;background-color: white;position: relative;}#sk-container-id-4 div.sk-item::before, #sk-container-id-4 div.sk-parallel-item::before {content: \"\";position: absolute;border-left: 1px solid gray;box-sizing: border-box;top: 0;bottom: 0;left: 50%;z-index: -1;}#sk-container-id-4 div.sk-parallel-item {display: flex;flex-direction: column;z-index: 1;position: relative;background-color: white;}#sk-container-id-4 div.sk-parallel-item:first-child::after {align-self: flex-end;width: 50%;}#sk-container-id-4 div.sk-parallel-item:last-child::after {align-self: flex-start;width: 50%;}#sk-container-id-4 div.sk-parallel-item:only-child::after {width: 0;}#sk-container-id-4 div.sk-dashed-wrapped {border: 1px dashed gray;margin: 0 0.4em 0.5em 0.4em;box-sizing: border-box;padding-bottom: 0.4em;background-color: white;}#sk-container-id-4 div.sk-label label {font-family: monospace;font-weight: bold;display: inline-block;line-height: 1.2em;}#sk-container-id-4 div.sk-label-container {text-align: center;}#sk-container-id-4 div.sk-container {/* jupyter's `normalize.less` sets `[hidden] { display: none; }` but bootstrap.min.css set `[hidden] { display: none !important; }` so we also need the `!important` here to be able to override the default hidden behavior on the sphinx rendered scikit-learn.org. See: https://github.com/scikit-learn/scikit-learn/issues/21755 */display: inline-block !important;position: relative;}#sk-container-id-4 div.sk-text-repr-fallback {display: none;}</style><div id=\"sk-container-id-4\" class=\"sk-top-container\"><div class=\"sk-text-repr-fallback\"><pre>RandomForestClassifier(class_weight=&#x27;balanced&#x27;, n_estimators=200,\n",
              "                       random_state=42)</pre><b>In a Jupyter environment, please rerun this cell to show the HTML representation or trust the notebook. <br />On GitHub, the HTML representation is unable to render, please try loading this page with nbviewer.org.</b></div><div class=\"sk-container\" hidden><div class=\"sk-item\"><div class=\"sk-estimator sk-toggleable\"><input class=\"sk-toggleable__control sk-hidden--visually\" id=\"sk-estimator-id-4\" type=\"checkbox\" checked><label for=\"sk-estimator-id-4\" class=\"sk-toggleable__label sk-toggleable__label-arrow\">RandomForestClassifier</label><div class=\"sk-toggleable__content\"><pre>RandomForestClassifier(class_weight=&#x27;balanced&#x27;, n_estimators=200,\n",
              "                       random_state=42)</pre></div></div></div></div></div>"
            ]
          },
          "metadata": {},
          "execution_count": 60
        }
      ]
    },
    {
      "cell_type": "markdown",
      "source": [
        "Evaluating the model"
      ],
      "metadata": {
        "id": "VF58sAWHVN3h"
      }
    },
    {
      "cell_type": "code",
      "source": [
        "# Make predictions on the test data\n",
        "y_pred = model.predict(X_test)\n",
        "y_prob = model.predict_proba(X_test)[:, 1]  # Probabilities for ROC-AUC\n",
        "\n",
        "# Evaluate the model's performance\n",
        "print(\"Classification Report:\\n\", classification_report(y_test, y_pred))\n",
        "print(\"Confusion Matrix:\\n\", confusion_matrix(y_test, y_pred))\n",
        "print(\"ROC-AUC Score:\", roc_auc_score(y_test, y_prob))"
      ],
      "metadata": {
        "colab": {
          "base_uri": "https://localhost:8080/"
        },
        "id": "RYk1emEpUlbk",
        "outputId": "b2e5e29e-ce6b-4e60-af22-81cb8b449452"
      },
      "execution_count": null,
      "outputs": [
        {
          "output_type": "stream",
          "name": "stdout",
          "text": [
            "Classification Report:\n",
            "               precision    recall  f1-score   support\n",
            "\n",
            "           0       0.97      1.00      0.98      1694\n",
            "           1       1.00      0.39      0.56        94\n",
            "\n",
            "    accuracy                           0.97      1788\n",
            "   macro avg       0.98      0.70      0.77      1788\n",
            "weighted avg       0.97      0.97      0.96      1788\n",
            "\n",
            "Confusion Matrix:\n",
            " [[1694    0]\n",
            " [  57   37]]\n",
            "ROC-AUC Score: 0.9349581752869954\n"
          ]
        }
      ]
    },
    {
      "cell_type": "code",
      "source": [
        "from sklearn.model_selection import cross_val_score, StratifiedKFold\n",
        "\n",
        "cv = StratifiedKFold(n_splits=5, shuffle=True, random_state=42)\n",
        "scores = cross_val_score(model, X_resampled, y_resampled, cv=cv, scoring='roc_auc')\n",
        "\n",
        "print(\"Cross-Validation Scores:\", scores)\n",
        "print(\"Mean ROC-AUC Score:\", scores.mean())\n",
        "print(\"Standard Deviation:\", scores.std())"
      ],
      "metadata": {
        "colab": {
          "base_uri": "https://localhost:8080/"
        },
        "id": "tBsPdb4dkSWa",
        "outputId": "7f30d714-f994-4fef-c586-ed5c151ecec3"
      },
      "execution_count": null,
      "outputs": [
        {
          "output_type": "stream",
          "name": "stdout",
          "text": [
            "Cross-Validation Scores: [0.9998056  0.9999775  0.99990456 0.99976683 0.99981536]\n",
            "Mean ROC-AUC Score: 0.9998539717725755\n",
            "Standard Deviation: 7.647405863925084e-05\n"
          ]
        }
      ]
    },
    {
      "cell_type": "code",
      "source": [
        "scores1 = cross_val_score(model, X_resampled, y_resampled, cv=cv, scoring='f1')\n",
        "\n",
        "print(\"Cross-Validation Scores(F1):\", scores1)\n",
        "print(\"Mean F1 Score:\", scores1.mean())\n",
        "print(\"Standard Deviation:\", scores1.std())"
      ],
      "metadata": {
        "colab": {
          "base_uri": "https://localhost:8080/"
        },
        "id": "GgoCXFrnleHD",
        "outputId": "c104c2bf-9b20-47af-d666-7d632c307d4d"
      },
      "execution_count": null,
      "outputs": [
        {
          "output_type": "stream",
          "name": "stdout",
          "text": [
            "Cross-Validation Scores(F1): [0.99556541 0.99630724 0.99519409 0.99667774 0.99593346]\n",
            "Mean F1 Score: 0.9959355860933755\n",
            "Standard Deviation: 0.0005245526212364711\n"
          ]
        }
      ]
    },
    {
      "cell_type": "code",
      "source": [
        "from sklearn.metrics import classification_report, confusion_matrix\n",
        "\n",
        "# Predict on the test set\n",
        "y_pred = model.predict(X_test)\n",
        "\n",
        "# Print classification report\n",
        "print(\"Classification Report:\\n\", classification_report(y_test, y_pred))\n",
        "\n",
        "# Print confusion matrix\n",
        "cm = confusion_matrix(y_test, y_pred)\n",
        "print(\"Confusion Matrix:\\n\", cm)\n"
      ],
      "metadata": {
        "colab": {
          "base_uri": "https://localhost:8080/"
        },
        "id": "txhqsAxOoE9u",
        "outputId": "981f6583-bf55-442e-b037-564df1756d22"
      },
      "execution_count": null,
      "outputs": [
        {
          "output_type": "stream",
          "name": "stdout",
          "text": [
            "Classification Report:\n",
            "               precision    recall  f1-score   support\n",
            "\n",
            "           0       0.97      1.00      0.98      1694\n",
            "           1       1.00      0.39      0.56        94\n",
            "\n",
            "    accuracy                           0.97      1788\n",
            "   macro avg       0.98      0.70      0.77      1788\n",
            "weighted avg       0.97      0.97      0.96      1788\n",
            "\n",
            "Confusion Matrix:\n",
            " [[1694    0]\n",
            " [  57   37]]\n"
          ]
        }
      ]
    },
    {
      "cell_type": "code",
      "source": [
        "from sklearn.metrics import precision_recall_curve\n",
        "import matplotlib.pyplot as plt\n",
        "\n",
        "y_scores = model.predict_proba(X_test)[:, 1]  # Probabilities for the positive class\n",
        "precision, recall, _ = precision_recall_curve(y_test, y_scores)\n",
        "\n",
        "plt.plot(recall, precision, marker='.')\n",
        "plt.xlabel('Recall')\n",
        "plt.ylabel('Precision')\n",
        "plt.title('Precision-Recall Curve')\n",
        "plt.show()\n"
      ],
      "metadata": {
        "colab": {
          "base_uri": "https://localhost:8080/",
          "height": 472
        },
        "id": "Fo_aEcOSYnfr",
        "outputId": "51414152-2edb-4f55-ce1f-81d66b049e65"
      },
      "execution_count": null,
      "outputs": [
        {
          "output_type": "display_data",
          "data": {
            "text/plain": [
              "<Figure size 640x480 with 1 Axes>"
            ],
            "image/png": "[encoded data removed]"
          },
          "metadata": {}
        }
      ]
    },
    {
      "cell_type": "code",
      "source": [
        "from sklearn.metrics import roc_curve\n",
        "\n",
        "fpr, tpr, _ = roc_curve(y_test, y_scores)\n",
        "\n",
        "plt.plot(fpr, tpr, marker='.')\n",
        "plt.xlabel('False Positive Rate')\n",
        "plt.ylabel('True Positive Rate')\n",
        "plt.title('ROC Curve')\n",
        "plt.show()\n"
      ],
      "metadata": {
        "colab": {
          "base_uri": "https://localhost:8080/",
          "height": 472
        },
        "id": "Ew_ZTa4qZl0l",
        "outputId": "b2250c7d-fa73-4851-8d79-af9a7abc04b3"
      },
      "execution_count": null,
      "outputs": [
        {
          "output_type": "display_data",
          "data": {
            "text/plain": [
              "<Figure size 640x480 with 1 Axes>"
            ],
            "image/png": "[encoded data removed]"
          },
          "metadata": {}
        }
      ]
    },
    {
      "cell_type": "code",
      "source": [
        "from sklearn.model_selection import learning_curve\n",
        "import matplotlib.pyplot as plt\n",
        "\n",
        "train_sizes, train_scores, test_scores = learning_curve(model, X_resampled, y_resampled, cv=cv, scoring='f1')\n",
        "\n",
        "plt.figure()\n",
        "plt.plot(train_sizes, np.mean(train_scores, axis=1), 'o-', color='r', label='Training score')\n",
        "plt.plot(train_sizes, np.mean(test_scores, axis=1), 'o-', color='g', label='Cross-validation score')\n",
        "plt.xlabel('Training examples')\n",
        "plt.ylabel('F1 Score')\n",
        "plt.legend(loc='best')\n",
        "plt.title('Learning Curves')\n",
        "plt.show()\n"
      ],
      "metadata": {
        "colab": {
          "base_uri": "https://localhost:8080/",
          "height": 472
        },
        "id": "iSj5k2ZYob-t",
        "outputId": "20c92a36-7c17-4dce-ce02-8687bf99136e"
      },
      "execution_count": null,
      "outputs": [
        {
          "output_type": "display_data",
          "data": {
            "text/plain": [
              "<Figure size 640x480 with 1 Axes>"
            ],
            "image/png": "[encoded data removed]"
          },
          "metadata": {}
        }
      ]
    }
  ]
}